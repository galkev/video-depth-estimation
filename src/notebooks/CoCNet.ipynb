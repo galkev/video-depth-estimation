{
 "cells": [
  {
   "cell_type": "code",
   "execution_count": 1,
   "metadata": {},
   "outputs": [],
   "source": [
    "# autoreload\n",
    "%load_ext autoreload\n",
    "%autoreload 2\n",
    "%matplotlib inline\n",
    "\n",
    "import os\n",
    "import sys\n",
    "\n",
    "import pathmagic\n",
    "from tools.project import proj_dir"
   ]
  },
  {
   "cell_type": "code",
   "execution_count": 2,
   "metadata": {},
   "outputs": [],
   "source": [
    "device = \"cuda\""
   ]
  },
  {
   "cell_type": "code",
   "execution_count": 3,
   "metadata": {},
   "outputs": [
    {
     "name": "stdout",
     "output_type": "stream",
     "text": [
      "No config found -> Use all\n",
      "\n",
      "CoC Max 0.0006044905008635579\n",
      "No config found -> Use all\n",
      "\n",
      "CoC Max 0.0006044905008635579\n"
     ]
    }
   ],
   "source": [
    "from data.video_depth_focus_data import VideoDepthFocusData\n",
    "\n",
    "def create_dataset(data_type):\n",
    "    data = VideoDepthFocusData(proj_dir(\"datasets\"), data_type, \"art_scene\")\n",
    "\n",
    "    data.configure_blender_data(sample_count=2,\n",
    "                                sample_skip=0,\n",
    "                                single_depth_frame=None,\n",
    "                                single_coc_frame=None,\n",
    "                                use_allinfocus=False,\n",
    "                                include_coc=True \n",
    "                               )\n",
    "    \n",
    "    return data\n",
    "\n",
    "train_data = create_dataset(\"train\")\n",
    "val_data = create_dataset(\"val\")"
   ]
  },
  {
   "cell_type": "code",
   "execution_count": 4,
   "metadata": {},
   "outputs": [
    {
     "name": "stderr",
     "output_type": "stream",
     "text": [
      "[2019-04-21 13:23:32,746] [train_logger.py:394] DEBUG: /home/kevin/Documents/master-thesis/logs/test_log/tblogs/m43_no_desc\n"
     ]
    }
   ],
   "source": [
    "from trainer import TrainLoggerTensorboardX\n",
    "\n",
    "train_logger = TrainLoggerTensorboardX(\n",
    "                model_id=\"43\",\n",
    "                model_desc=\"no_desc\",\n",
    "                log_dir=\"/home/kevin/Documents/master-thesis/logs/test_log\",\n",
    "                log_it_freq=1,\n",
    "                log_img_freq=1,\n",
    "                log_val_freq=1,\n",
    "                val_loss_func=[],\n",
    "                save_imgs=True)"
   ]
  },
  {
   "cell_type": "code",
   "execution_count": 5,
   "metadata": {},
   "outputs": [
    {
     "name": "stderr",
     "output_type": "stream",
     "text": [
      "/home/kevin/miniconda2/envs/torch/lib/python3.6/site-packages/torch/cuda/__init__.py:118: UserWarning: \n",
      "    Found GPU0 GeForce GTX 660M which is of cuda capability 3.0.\n",
      "    PyTorch no longer supports this GPU because it is too old.\n",
      "    The minimum cuda capability that we support is 3.5.\n",
      "    \n",
      "  warnings.warn(old_gpu_warn % (d, name, major, capability[1]))\n"
     ]
    }
   ],
   "source": [
    "from torch import nn\n",
    "from net.pool_net import PoolNet, PoolNetEncoder, PoolNetDecoder\n",
    "from net.coc_depth_net import CoCDepthEncShareNet, CoCDepthLayeredNet\n",
    "\n",
    "\"\"\"\n",
    "model=CoCDepthEncShareNet(enc_sizes=PoolNetEncoder.dft_sizes * 1 // 8,\n",
    "                          dec_sizes=PoolNetDecoder.dft_sizes * 1 // 8,\n",
    "                          #dec_pool_layers=[True, True, True, True, False],\n",
    "                          bn_eps=1e-4,\n",
    "                          bias=False,\n",
    "                          act_func=nn.ReLU()).to(device)\n",
    "\"\"\"\n",
    "\n",
    "model=CoCDepthLayeredNet(enc_sizes=PoolNetEncoder.dft_sizes * 1 // 8,\n",
    "                         dec_sizes=PoolNetDecoder.dft_sizes * 1 // 8,\n",
    "                         dec_pool_layers=[True, True, True, True, False],\n",
    "                         bn_eps=1e-4,\n",
    "                         bias=False,\n",
    "                         act_func=nn.ReLU()).to(device)"
   ]
  },
  {
   "cell_type": "code",
   "execution_count": 6,
   "metadata": {},
   "outputs": [],
   "source": [
    "import torch\n",
    "\n",
    "optimizer = torch.optim.Adam(params=model.parameters(), lr=1e-4)"
   ]
  },
  {
   "cell_type": "code",
   "execution_count": 7,
   "metadata": {},
   "outputs": [],
   "source": [
    "train_loader = torch.utils.data.DataLoader(train_data, batch_size=1, shuffle=True, num_workers=1)\n",
    "val_loader = torch.utils.data.DataLoader(train_data, batch_size=1, shuffle=False, num_workers=1)"
   ]
  },
  {
   "cell_type": "code",
   "execution_count": 8,
   "metadata": {},
   "outputs": [
    {
     "name": "stdout",
     "output_type": "stream",
     "text": [
      "13:23:34 START\n",
      "13:23:37 [Epoch 1/1] TRAIN train_loss: 1.9191025\n",
      "13:23:38 [Epoch 1/1] VAL   train_loss: nan\n",
      "13:23:38 FINISH\n"
     ]
    },
    {
     "data": {
      "text/plain": [
       "nan"
      ]
     },
     "execution_count": 8,
     "metadata": {},
     "output_type": "execute_result"
    }
   ],
   "source": [
    "from trainer.trainer import TrainerCoCDepth\n",
    "\n",
    "trainer = TrainerCoCDepth(model=model,\n",
    "                          device=device,\n",
    "                          optimizer=optimizer,\n",
    "                          logger=train_logger\n",
    "                         )\n",
    "\n",
    "trainer.train(train_loader,\n",
    "              val_loader,\n",
    "              1,\n",
    "              checkpoint_freq=9999999)"
   ]
  },
  {
   "cell_type": "code",
   "execution_count": null,
   "metadata": {},
   "outputs": [],
   "source": []
  },
  {
   "cell_type": "code",
   "execution_count": null,
   "metadata": {},
   "outputs": [],
   "source": []
  }
 ],
 "metadata": {
  "kernelspec": {
   "display_name": "Python 3",
   "language": "python",
   "name": "python3"
  },
  "language_info": {
   "codemirror_mode": {
    "name": "ipython",
    "version": 3
   },
   "file_extension": ".py",
   "mimetype": "text/x-python",
   "name": "python",
   "nbconvert_exporter": "python",
   "pygments_lexer": "ipython3",
   "version": "3.6.8"
  }
 },
 "nbformat": 4,
 "nbformat_minor": 2
}
