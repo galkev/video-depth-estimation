{
 "cells": [
  {
   "cell_type": "code",
   "execution_count": 1,
   "metadata": {},
   "outputs": [],
   "source": [
    "# autoreload\n",
    "%load_ext autoreload\n",
    "%autoreload 2\n",
    "%matplotlib inline\n",
    "\n",
    "import os\n",
    "import sys\n",
    "\n",
    "import pathmagic\n",
    "from tools.project import proj_dir"
   ]
  },
  {
   "cell_type": "code",
   "execution_count": 2,
   "metadata": {},
   "outputs": [],
   "source": [
    "from net.cnn3d.model import make_resnext, make_densenet121, make_resnext_decoder\n",
    "from net.decoder_net import DecoderNet3D\n",
    "from net.auto_encoder import DenseNet3DAutoEncoder\n",
    "\n",
    "#model = make_resnext(proj_dir(\"pretrained\"))\n",
    "#model = make_densenet121(proj_dir(\"pretrained\"))\n",
    "\n",
    "#model = make_resnext_decoder()\n",
    "\n",
    "#model = DecoderNet().cuda()\n"
   ]
  },
  {
   "cell_type": "code",
   "execution_count": 3,
   "metadata": {},
   "outputs": [
    {
     "name": "stderr",
     "output_type": "stream",
     "text": [
      "/home/kevin/miniconda2/envs/torch/lib/python3.6/site-packages/torch/cuda/__init__.py:118: UserWarning: \n",
      "    Found GPU0 GeForce GTX 660M which is of cuda capability 3.0.\n",
      "    PyTorch no longer supports this GPU because it is too old.\n",
      "    The minimum cuda capability that we support is 3.5.\n",
      "    \n",
      "  warnings.warn(old_gpu_warn % (d, name, major, capability[1]))\n"
     ]
    },
    {
     "name": "stdout",
     "output_type": "stream",
     "text": [
      "loading model ../../../pretrained/cnn3d/densenet-121-kinetics.pth\n",
      "torch.Size([1, 1024, 1, 7, 7])\n"
     ]
    }
   ],
   "source": [
    "import torch\n",
    "\n",
    "# N C T H W\n",
    "#x = torch.rand(1, 3, 16, 224, 224, device=\"cuda\")\n",
    "#x = torch.rand(1, 2048, 1, 7, 7, device=\"cuda\")\n",
    "\n",
    "#x = torch.rand(1, 3, 16, 224, 224, device=\"cuda\")\n",
    "x = torch.rand(1, 16, 3, 224, 224, device=\"cuda\")\n",
    "#x = torch.rand(1, 1024, 1, 7, 7, device=\"cuda\")\n",
    "\n",
    "#model = DecoderNet3D().cuda()\n",
    "#model = make_resnext(proj_dir(\"pretrained\"))\n",
    "#model = make_densenet121(proj_dir(\"pretrained\"))\n",
    "\n",
    "#print(model)\n",
    "\n",
    "model = DenseNet3DAutoEncoder(proj_dir(\"pretrained\"), use_transp_conv=False, \n",
    "                              decoder_conv_kernel_sizes=[1, 1], \n",
    "                              use_concat=[False, False, True, False],\n",
    "                              use_2d_dec=False, depth_for_all=True).cuda()\n",
    "\n",
    "out = model(x)\n",
    "\n",
    "#print(out.size())"
   ]
  },
  {
   "cell_type": "code",
   "execution_count": 20,
   "metadata": {},
   "outputs": [
    {
     "name": "stdout",
     "output_type": "stream",
     "text": [
      "torch.Size([1, 16, 1, 224, 224])\n",
      "torch.Size([3, 234, 692])\n"
     ]
    }
   ],
   "source": [
    "print(out.size())\n",
    "#print([c.size() for c in ccx])\n",
    "import torch\n",
    "from trainer.trainer import TrainerDDFF\n",
    "\n",
    "test = torch.nn.MSELoss()(out, torch.rand(1, 16, 3, 224, 224).cuda())\n",
    "\n",
    "img = TrainerDDFF(model=model, device=None, vis_idx=8).get_output_vis(x[0], out[0][0], out[0][0])\n",
    "\n",
    "print(img.size())"
   ]
  },
  {
   "cell_type": "code",
   "execution_count": null,
   "metadata": {},
   "outputs": [],
   "source": [
    "#print(model)"
   ]
  },
  {
   "cell_type": "code",
   "execution_count": null,
   "metadata": {},
   "outputs": [],
   "source": []
  }
 ],
 "metadata": {
  "kernelspec": {
   "display_name": "Python 3",
   "language": "python",
   "name": "python3"
  },
  "language_info": {
   "codemirror_mode": {
    "name": "ipython",
    "version": 3
   },
   "file_extension": ".py",
   "mimetype": "text/x-python",
   "name": "python",
   "nbconvert_exporter": "python",
   "pygments_lexer": "ipython3",
   "version": "3.6.8"
  }
 },
 "nbformat": 4,
 "nbformat_minor": 2
}
