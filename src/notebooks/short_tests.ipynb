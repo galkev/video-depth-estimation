{
 "cells": [
  {
   "cell_type": "code",
   "execution_count": 5,
   "metadata": {},
   "outputs": [
    {
     "name": "stdout",
     "output_type": "stream",
     "text": [
      "<KeysViewHDF5 ['disp_train', 'disp_val', 'stack_train', 'stack_val']>\n",
      "<KeysViewHDF5 ['stack_test']>\n"
     ]
    }
   ],
   "source": [
    "import h5py\n",
    "\n",
    "train_data = h5py.File(\"../../../datasets/ddff/ddff-dataset-trainval.h5\", \"r\")\n",
    "test_data = h5py.File(\"../../../datasets/ddff/ddff-dataset-test.h5\", \"r\")\n",
    "\n",
    "print(train_data.keys())\n",
    "print(test_data.keys())"
   ]
  },
  {
   "cell_type": "code",
   "execution_count": null,
   "metadata": {},
   "outputs": [],
   "source": []
  }
 ],
 "metadata": {
  "kernelspec": {
   "display_name": "Python 3",
   "language": "python",
   "name": "python3"
  },
  "language_info": {
   "codemirror_mode": {
    "name": "ipython",
    "version": 3
   },
   "file_extension": ".py",
   "mimetype": "text/x-python",
   "name": "python",
   "nbconvert_exporter": "python",
   "pygments_lexer": "ipython3",
   "version": "3.6.6"
  }
 },
 "nbformat": 4,
 "nbformat_minor": 2
}
