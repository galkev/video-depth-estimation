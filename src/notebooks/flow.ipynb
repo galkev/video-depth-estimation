{
 "cells": [
  {
   "cell_type": "code",
   "execution_count": 1,
   "metadata": {},
   "outputs": [],
   "source": [
    "# autoreload\n",
    "%load_ext autoreload\n",
    "%autoreload 2\n",
    "%matplotlib inline\n",
    "\n",
    "import os\n",
    "import sys\n",
    "\n",
    "import pathmagic\n",
    "from tools.project import proj_dir"
   ]
  },
  {
   "cell_type": "code",
   "execution_count": 2,
   "metadata": {},
   "outputs": [],
   "source": [
    "import array\n",
    "import OpenEXR\n",
    "import Imath\n",
    "import numpy as np\n",
    "import cv2\n",
    "import matplotlib.pyplot as plt\n",
    "\n",
    "def get_flow_vis(flow):    \n",
    "    hsv = np.zeros((flow.shape[0], flow.shape[1], 3), dtype=np.uint8)\n",
    "    hsv[..., 1] = 255\n",
    "\n",
    "    mag, ang = cv2.cartToPolar(flow[..., 0], flow[..., 1])\n",
    "    hsv[..., 0] = ang * 180 / np.pi / 2\n",
    "    hsv[..., 2] = cv2.normalize(mag, None, 0, 255, cv2.NORM_MINMAX)\n",
    "    rgb = cv2.cvtColor(hsv, cv2.COLOR_HSV2RGB)\n",
    "    \n",
    "    return rgb\n",
    "\n",
    "def exr2flow_other(exr, w,h):\n",
    "    file = OpenEXR.InputFile(exr)\n",
    "\n",
    "    # Compute the size\n",
    "    dw = file.header()['dataWindow']\n",
    "    sz = (dw.max.x - dw.min.x + 1, dw.max.y - dw.min.y + 1)\n",
    "\n",
    "    FLOAT = Imath.PixelType(Imath.PixelType.FLOAT)\n",
    "    (R,G,B) = [array.array('f', file.channel(Chan, FLOAT)).tolist() for Chan in (\"R\", \"G\", \"B\") ]\n",
    "\n",
    "    img = np.zeros((h,w,3), np.float32)\n",
    "    img[:,:,0] = np.array(R).reshape(img.shape[0],-1)\n",
    "    img[:,:,1] = -np.array(G).reshape(img.shape[0],-1)\n",
    "\n",
    "    return img"
   ]
  },
  {
   "cell_type": "code",
   "execution_count": 3,
   "metadata": {},
   "outputs": [],
   "source": [
    "import OpenEXR, Imath, numpy\n",
    "\n",
    "# flow t1 -> t0\n",
    "def load_exr(file, w, h):\n",
    "    pt = Imath.PixelType(Imath.PixelType.FLOAT)\n",
    "    exr = OpenEXR.InputFile(file)\n",
    "    #dw = exr.header()['dataWindow']\n",
    "    #size = (dw.max.x - dw.min.x + 1, dw.max.y - dw.min.y + 1)\n",
    "    flow = np.stack([\n",
    "        numpy.frombuffer(exr.channel(c, pt), dtype = numpy.float32).reshape(h, w) \n",
    "        for c in [\"R\", \"G\"]], axis=2)\n",
    "    #flow[:,:,0] *= -1\n",
    "    flow[:,:,1] *= -1\n",
    "    \n",
    "    return flow"
   ]
  },
  {
   "cell_type": "code",
   "execution_count": 4,
   "metadata": {},
   "outputs": [],
   "source": [
    "#flow_path = \"/home/kevin/Documents/master-thesis/render/DiningRoom1/flow0124.exr\"\n",
    "#print((exr2flow_other(flow_path, 512, 512)[:,:,0:2] - load_exr(flow_path, 512, 512)[:,:,:]).sum())"
   ]
  },
  {
   "cell_type": "code",
   "execution_count": 15,
   "metadata": {},
   "outputs": [
    {
     "name": "stdout",
     "output_type": "stream",
     "text": [
      "-1.7794981 -2.0479412\n"
     ]
    },
    {
     "data": {
      "image/png": "[encoded data removed]",
      "text/plain": [
       "<Figure size 432x288 with 1 Axes>"
      ]
     },
     "metadata": {
      "needs_background": "light"
     },
     "output_type": "display_data"
    }
   ],
   "source": [
    "from tools.tools import load_blender_flow_exr\n",
    "from tools.vis_tools import flow_to_vis\n",
    "\n",
    "flow_path = \"/home/kevin/Documents/master-thesis/datasets/dining_room/train/clip13/flow/flow0049.exr\"\n",
    "flow = load_blender_flow_exr(flow_path, [512, 512], False)\n",
    "\n",
    "flow_vis = flow_to_vis(flow)\n",
    "\n",
    "plt.imshow(flow_vis)\n",
    "\n",
    "print(flow[:,:,0].min(), flow[:,:,1].min())"
   ]
  },
  {
   "cell_type": "code",
   "execution_count": 6,
   "metadata": {},
   "outputs": [
    {
     "ename": "NameError",
     "evalue": "name 'flow_to_hsv' is not defined",
     "output_type": "error",
     "traceback": [
      "\u001b[0;31m---------------------------------------------------------------------------\u001b[0m",
      "\u001b[0;31mNameError\u001b[0m                                 Traceback (most recent call last)",
      "\u001b[0;32m<ipython-input-6-f8c46bf2f3ef>\u001b[0m in \u001b[0;36m<module>\u001b[0;34m\u001b[0m\n\u001b[1;32m      1\u001b[0m \u001b[0;34m\u001b[0m\u001b[0m\n\u001b[1;32m      2\u001b[0m \u001b[0mflow\u001b[0m \u001b[0;34m=\u001b[0m \u001b[0mexr2flow_other\u001b[0m\u001b[0;34m(\u001b[0m\u001b[0mflow_path\u001b[0m\u001b[0;34m,\u001b[0m \u001b[0;36m512\u001b[0m\u001b[0;34m,\u001b[0m \u001b[0;36m512\u001b[0m\u001b[0;34m)\u001b[0m\u001b[0;34m\u001b[0m\u001b[0;34m\u001b[0m\u001b[0m\n\u001b[0;32m----> 3\u001b[0;31m \u001b[0mhsv\u001b[0m \u001b[0;34m=\u001b[0m \u001b[0mflow_to_hsv\u001b[0m\u001b[0;34m(\u001b[0m\u001b[0mflow\u001b[0m\u001b[0;34m)\u001b[0m\u001b[0;34m\u001b[0m\u001b[0;34m\u001b[0m\u001b[0m\n\u001b[0m\u001b[1;32m      4\u001b[0m \u001b[0;34m\u001b[0m\u001b[0m\n\u001b[1;32m      5\u001b[0m \u001b[0mplt\u001b[0m\u001b[0;34m.\u001b[0m\u001b[0mimshow\u001b[0m\u001b[0;34m(\u001b[0m\u001b[0mhsv\u001b[0m\u001b[0;34m[\u001b[0m\u001b[0;36m0\u001b[0m\u001b[0;34m]\u001b[0m\u001b[0;34m)\u001b[0m\u001b[0;34m\u001b[0m\u001b[0;34m\u001b[0m\u001b[0m\n",
      "\u001b[0;31mNameError\u001b[0m: name 'flow_to_hsv' is not defined"
     ]
    }
   ],
   "source": [
    "\n",
    "flow = exr2flow_other(flow_path, 512, 512)\n",
    "hsv = flow_to_hsv(flow)\n",
    "\n",
    "plt.imshow(hsv[0])"
   ]
  },
  {
   "cell_type": "code",
   "execution_count": null,
   "metadata": {},
   "outputs": [],
   "source": []
  },
  {
   "cell_type": "code",
   "execution_count": null,
   "metadata": {},
   "outputs": [],
   "source": []
  },
  {
   "cell_type": "code",
   "execution_count": null,
   "metadata": {},
   "outputs": [],
   "source": []
  }
 ],
 "metadata": {
  "kernelspec": {
   "display_name": "Python 3",
   "language": "python",
   "name": "python3"
  },
  "language_info": {
   "codemirror_mode": {
    "name": "ipython",
    "version": 3
   },
   "file_extension": ".py",
   "mimetype": "text/x-python",
   "name": "python",
   "nbconvert_exporter": "python",
   "pygments_lexer": "ipython3",
   "version": "3.6.6"
  }
 },
 "nbformat": 4,
 "nbformat_minor": 2
}
