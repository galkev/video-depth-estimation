{
 "cells": [
  {
   "cell_type": "code",
   "execution_count": 1,
   "metadata": {},
   "outputs": [],
   "source": [
    "# autoreload\n",
    "%load_ext autoreload\n",
    "%autoreload 2\n",
    "%matplotlib inline\n",
    "\n",
    "import os\n",
    "import sys\n",
    "\n",
    "import pathmagic\n",
    "from tools.project import proj_dir"
   ]
  },
  {
   "cell_type": "code",
   "execution_count": 2,
   "metadata": {},
   "outputs": [
    {
     "ename": "AttributeError",
     "evalue": "type object 'PoolNet' has no attribute 'dft_enc_sizes'",
     "output_type": "error",
     "traceback": [
      "\u001b[0;31m---------------------------------------------------------------------------\u001b[0m",
      "\u001b[0;31mAttributeError\u001b[0m                            Traceback (most recent call last)",
      "\u001b[0;32m<ipython-input-2-39d7a0141d84>\u001b[0m in \u001b[0;36m<module>\u001b[0;34m\u001b[0m\n\u001b[1;32m      4\u001b[0m \u001b[0;32mfrom\u001b[0m \u001b[0mtools\u001b[0m\u001b[0;34m.\u001b[0m\u001b[0mtools\u001b[0m \u001b[0;32mimport\u001b[0m \u001b[0mmodule_flat_str\u001b[0m\u001b[0;34m\u001b[0m\u001b[0;34m\u001b[0m\u001b[0m\n\u001b[1;32m      5\u001b[0m \u001b[0;34m\u001b[0m\u001b[0m\n\u001b[0;32m----> 6\u001b[0;31m net = PoolNet(enc_sizes=PoolNet.dft_enc_sizes * 1 // 8, \n\u001b[0m\u001b[1;32m      7\u001b[0m               \u001b[0mdec_sizes\u001b[0m\u001b[0;34m=\u001b[0m\u001b[0mPoolNet\u001b[0m\u001b[0;34m.\u001b[0m\u001b[0mdft_dec_sizes\u001b[0m \u001b[0;34m*\u001b[0m \u001b[0;36m1\u001b[0m \u001b[0;34m//\u001b[0m \u001b[0;36m8\u001b[0m\u001b[0;34m,\u001b[0m\u001b[0;34m\u001b[0m\u001b[0;34m\u001b[0m\u001b[0m\n\u001b[1;32m      8\u001b[0m               act_func=torch.nn.ELU())\n",
      "\u001b[0;31mAttributeError\u001b[0m: type object 'PoolNet' has no attribute 'dft_enc_sizes'"
     ]
    }
   ],
   "source": [
    "import torch\n",
    "import numpy as np\n",
    "from net.pool_net import PoolNet, PoolNetEncoderBlock, PoolNetDecoderBlock\n",
    "from tools.tools import module_flat_str\n",
    "    \n",
    "net = PoolNet(enc_sizes=PoolNet.dft_enc_sizes * 1 // 8, \n",
    "              dec_sizes=PoolNet.dft_dec_sizes * 1 // 8, \n",
    "              act_func=torch.nn.ELU())\n",
    "print(module_flat_str(net, module_filter=[torch.nn.ELU, torch.nn.BatchNorm2d]))\n",
    "\n",
    "batch_size = 4\n",
    "num_frames = 5\n",
    "num_channels = 3\n",
    "w, h = 112, 112\n",
    "x = torch.rand(batch_size, num_frames, num_channels, w, h)\n",
    "\n",
    "net.train()\n",
    "out = net(x)"
   ]
  },
  {
   "cell_type": "code",
   "execution_count": null,
   "metadata": {},
   "outputs": [],
   "source": [
    "print(out.size())"
   ]
  },
  {
   "cell_type": "code",
   "execution_count": null,
   "metadata": {},
   "outputs": [],
   "source": [
    "#out.sum().backward()"
   ]
  },
  {
   "cell_type": "code",
   "execution_count": null,
   "metadata": {},
   "outputs": [],
   "source": [
    "for i in range(999999999):\n",
    "    try:\n",
    "        print(\"y\")\n",
    "        break\n",
    "    except:\n",
    "        pass"
   ]
  },
  {
   "cell_type": "code",
   "execution_count": null,
   "metadata": {},
   "outputs": [],
   "source": [
    "import torch\n",
    "torch.rand(5).cuda()"
   ]
  },
  {
   "cell_type": "code",
   "execution_count": null,
   "metadata": {},
   "outputs": [],
   "source": [
    "import torch\n",
    "from net.flownet2_nvidia.networks.resample2d_package.resample2d import Resample2d\n",
    "\n",
    "Resample2d()(torch.rand(2, 3, 5, 2), torch.rand(3, 54, 2, 5))"
   ]
  },
  {
   "cell_type": "code",
   "execution_count": null,
   "metadata": {},
   "outputs": [],
   "source": []
  }
 ],
 "metadata": {
  "kernelspec": {
   "display_name": "Python 3",
   "language": "python",
   "name": "python3"
  },
  "language_info": {
   "codemirror_mode": {
    "name": "ipython",
    "version": 3
   },
   "file_extension": ".py",
   "mimetype": "text/x-python",
   "name": "python",
   "nbconvert_exporter": "python",
   "pygments_lexer": "ipython3",
   "version": "3.6.8"
  }
 },
 "nbformat": 4,
 "nbformat_minor": 2
}
