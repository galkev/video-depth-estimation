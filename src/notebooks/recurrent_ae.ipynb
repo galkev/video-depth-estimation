{
 "cells": [
  {
   "cell_type": "code",
   "execution_count": 1,
   "metadata": {},
   "outputs": [],
   "source": [
    "# autoreload\n",
    "%load_ext autoreload\n",
    "%autoreload 2\n",
    "%matplotlib inline\n",
    "\n",
    "import os\n",
    "import sys\n",
    "\n",
    "import pathmagic\n",
    "from tools.project import proj_dir"
   ]
  },
  {
   "cell_type": "code",
   "execution_count": 2,
   "metadata": {},
   "outputs": [
    {
     "name": "stdout",
     "output_type": "stream",
     "text": [
      "Seeeeeeeeeeeeeding!!!\n"
     ]
    }
   ],
   "source": [
    "from net.recurrent_ae_web import RecurrentAEWeb\n",
    "from net.recurrent_ae import RecurrentAE, \\\n",
    "    BidirRecurrentComposeAll, BidirRecurrentComposeFirstLast, BidirRecurrentComposeCenter\n",
    "from tools.tools import module_flat_str, deterministic\n",
    "from torch import nn\n",
    "import torch\n",
    "\n",
    "deterministic()"
   ]
  },
  {
   "cell_type": "code",
   "execution_count": 3,
   "metadata": {},
   "outputs": [],
   "source": [
    "#net_web = RecurrentAEWeb()"
   ]
  },
  {
   "cell_type": "code",
   "execution_count": 4,
   "metadata": {},
   "outputs": [],
   "source": [
    "#print(module_flat_str(net_web, [nn.LeakyReLU, nn.Upsample]))"
   ]
  },
  {
   "cell_type": "code",
   "execution_count": 5,
   "metadata": {},
   "outputs": [],
   "source": [
    "net = RecurrentAE(alternate=True, reverse=False, bias=False, act=nn.LeakyReLU())\n",
    "#print(module_flat_str(net, [nn.ReLU, nn.BatchNorm2d, nn.ConvTranspose2d]))\n",
    "#print(module_flat_str(net))"
   ]
  },
  {
   "cell_type": "code",
   "execution_count": 6,
   "metadata": {},
   "outputs": [
    {
     "name": "stdout",
     "output_type": "stream",
     "text": [
      "[[32, 224, 224], [43, 112, 112], [57, 56, 56], [76, 28, 28], [101, 14, 14], [101, 7, 7]]\n",
      "[101, 7, 7]\n"
     ]
    }
   ],
   "source": [
    "print([net.encoder.get_feature_map_sizes(i) for i in range(6)])\n",
    "print(net.encoder.get_out_dim())"
   ]
  },
  {
   "cell_type": "code",
   "execution_count": 7,
   "metadata": {},
   "outputs": [],
   "source": [
    "batch_size = 1\n",
    "seq_length = 3\n",
    "\n",
    "#x = torch.rand(batch_size, 3, 224, 224)\n",
    "x = torch.rand(batch_size, seq_length, 3, 224, 224)\n",
    "#x = torch.ones(batch_size, seq_length, 3, 224, 224)\n",
    "\n",
    "#hidden = net.encoder.create_hidden(batch_size)\n",
    "\n",
    "out = net(x, output_all=False)"
   ]
  },
  {
   "cell_type": "code",
   "execution_count": 8,
   "metadata": {},
   "outputs": [
    {
     "name": "stdout",
     "output_type": "stream",
     "text": [
      "torch.Size([1, 1, 224, 224])\n",
      "tensor(1026.9094, grad_fn=<SumBackward0>)\n"
     ]
    }
   ],
   "source": [
    "print(out.shape)\n",
    "print((out**2).sum())\n",
    "# print(net._get_fwd_order(5))\n",
    "# print(net.get_output_mode())"
   ]
  },
  {
   "cell_type": "code",
   "execution_count": 9,
   "metadata": {},
   "outputs": [
    {
     "data": {
      "text/plain": [
       "'\\ndef alternating_range(stop):\\n    center = stop // 2\\n    r = sum(([a,b] for a, b in zip(range(center), range(stop-1, center-1, -1))), [])\\n    \\n    if len(r) < stop:\\n        r.append(center)\\n     \\n    return r\\n    \\nprint(list(alternating_range(5)))\\n'"
      ]
     },
     "execution_count": 9,
     "metadata": {},
     "output_type": "execute_result"
    }
   ],
   "source": [
    "\"\"\"\n",
    "def alternating_range(stop):\n",
    "    center = stop // 2\n",
    "    r = sum(([a,b] for a, b in zip(range(center), range(stop-1, center-1, -1))), [])\n",
    "    \n",
    "    if len(r) < stop:\n",
    "        r.append(center)\n",
    "     \n",
    "    return r\n",
    "    \n",
    "print(list(alternating_range(5)))\n",
    "\"\"\""
   ]
  },
  {
   "cell_type": "code",
   "execution_count": 3,
   "metadata": {},
   "outputs": [],
   "source": [
    "#binet = BidirRecurrentComposeCenter(RecurrentAE(), use_hidden=True)\n",
    "binet = BidirRecurrentComposeAll(RecurrentAE(), use_hidden=True)\n",
    "#binet = BidirRecurrentComposeFirstLast(RecurrentAE(), use_hidden=True)\n",
    "\n",
    "batch_size = 2\n",
    "seq_length = 3 \n",
    "\n",
    "#x = torch.rand(batch_size, 3, 224, 224)\n",
    "x = torch.rand(batch_size, seq_length, 3, 64, 64)\n",
    "\n",
    "out = binet(x)"
   ]
  },
  {
   "cell_type": "code",
   "execution_count": 4,
   "metadata": {},
   "outputs": [
    {
     "name": "stdout",
     "output_type": "stream",
     "text": [
      "torch.Size([2, 3, 1, 64, 64])\n"
     ]
    }
   ],
   "source": [
    "print(out.shape)"
   ]
  },
  {
   "cell_type": "code",
   "execution_count": null,
   "metadata": {},
   "outputs": [],
   "source": []
  }
 ],
 "metadata": {
  "kernelspec": {
   "display_name": "Python 3",
   "language": "python",
   "name": "python3"
  },
  "language_info": {
   "codemirror_mode": {
    "name": "ipython",
    "version": 3
   },
   "file_extension": ".py",
   "mimetype": "text/x-python",
   "name": "python",
   "nbconvert_exporter": "python",
   "pygments_lexer": "ipython3",
   "version": "3.6.8"
  }
 },
 "nbformat": 4,
 "nbformat_minor": 2
}
