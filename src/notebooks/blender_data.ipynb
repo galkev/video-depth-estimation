{
 "cells": [
  {
   "cell_type": "code",
   "execution_count": 1,
   "metadata": {},
   "outputs": [],
   "source": [
    "# autoreload\n",
    "%load_ext autoreload\n",
    "%autoreload 2\n",
    "%matplotlib inline\n",
    "\n",
    "import os\n",
    "import sys\n",
    "\n",
    "import pathmagic\n",
    "from tools.project import proj_dir"
   ]
  },
  {
   "cell_type": "code",
   "execution_count": 2,
   "metadata": {},
   "outputs": [],
   "source": [
    "import json\n",
    "\n",
    "data_path = proj_dir(\"datasets\", \"dining_room_info\")\n",
    "\n",
    "with open(os.path.join(data_path, \"stats_per_frame.json\"), \"r\") as f:\n",
    "    stats_per_frame = json.load(f)\n",
    "\n",
    "with open(os.path.join(data_path, \"stats_per_clip.json\"), \"r\") as f:\n",
    "    stats_per_clip = json.load(f)\n",
    "    \n",
    "with open(os.path.join(data_path, \"stats_total.json\"), \"r\") as f:\n",
    "    stats_total = json.load(f)"
   ]
  },
  {
   "cell_type": "code",
   "execution_count": 25,
   "metadata": {},
   "outputs": [],
   "source": [
    "import numpy as np\n",
    "\n",
    "depth_values = {\"min\": [], \"avg\": [], \"max\": []}\n",
    "flow_values = {\"min\": [], \"avg\": [], \"max\": []}\n",
    "flow_nonzero_values = []\n",
    "\n",
    "for clip in stats_per_frame:\n",
    "    for frame in clip[\"frames\"]:\n",
    "        for x in [\"min\", \"avg\", \"max\"]:\n",
    "            depth_values[x].append(frame[\"depth\"][x] / 0xffff * 10)\n",
    "            flow_values[x].append(frame[\"flow\"][x])\n",
    "        \n",
    "for clip in stats_per_clip:\n",
    "    flow_nonzero_values.append(clip[\"frames\"][\"flow\"][\"nonzero_per\"])\n",
    "    \n",
    "#depth_values = np.array(depth_values)\n",
    "#flow_values = np.array(flow_values)\n",
    "#flow_nonzero_values = np.array(flow_nonzero_values)"
   ]
  },
  {
   "cell_type": "code",
   "execution_count": 31,
   "metadata": {},
   "outputs": [
    {
     "data": {
      "text/plain": [
       "(array([1.000e+00, 0.000e+00, 0.000e+00, 2.000e+00, 0.000e+00, 0.000e+00,\n",
       "        1.000e+01, 4.000e+00, 0.000e+00, 0.000e+00, 0.000e+00, 0.000e+00,\n",
       "        0.000e+00, 2.000e+00, 2.000e+00, 0.000e+00, 1.500e+01, 1.400e+01,\n",
       "        1.000e+00, 3.000e+00, 3.000e+00, 2.000e+00, 2.000e+00, 2.000e+00,\n",
       "        2.000e+00, 2.700e+01, 3.800e+01, 7.700e+01, 1.910e+02, 2.010e+02,\n",
       "        1.830e+02, 3.310e+02, 5.240e+02, 4.950e+02, 5.840e+02, 7.050e+02,\n",
       "        1.810e+03, 6.480e+02, 1.418e+03, 7.080e+02, 6.810e+02, 7.770e+02,\n",
       "        1.550e+03, 1.491e+03, 8.180e+02, 1.073e+03, 1.128e+03, 1.079e+03,\n",
       "        3.470e+02, 2.001e+03]),\n",
       " array([2.88090333, 2.96226749, 3.04363165, 3.1249958 , 3.20635996,\n",
       "        3.28772412, 3.36908827, 3.45045243, 3.53181659, 3.61318074,\n",
       "        3.6945449 , 3.77590906, 3.85727321, 3.93863737, 4.02000153,\n",
       "        4.10136568, 4.18272984, 4.264094  , 4.34545815, 4.42682231,\n",
       "        4.50818647, 4.58955062, 4.67091478, 4.75227893, 4.83364309,\n",
       "        4.91500725, 4.9963714 , 5.07773556, 5.15909972, 5.24046387,\n",
       "        5.32182803, 5.40319219, 5.48455634, 5.5659205 , 5.64728466,\n",
       "        5.72864881, 5.81001297, 5.89137713, 5.97274128, 6.05410544,\n",
       "        6.1354696 , 6.21683375, 6.29819791, 6.37956207, 6.46092622,\n",
       "        6.54229038, 6.62365454, 6.70501869, 6.78638285, 6.86774701,\n",
       "        6.94911116]),\n",
       " <a list of 50 Patch objects>)"
      ]
     },
     "execution_count": 31,
     "metadata": {},
     "output_type": "execute_result"
    },
    {
     "data": {
      "image/png": "[encoded data removed]",
      "text/plain": [
       "<Figure size 432x288 with 1 Axes>"
      ]
     },
     "metadata": {
      "needs_background": "light"
     },
     "output_type": "display_data"
    }
   ],
   "source": [
    "import matplotlib.pyplot as plt\n",
    "\n",
    "plt.hist(depth_values[\"min\"], bins=50)\n",
    "plt.hist(depth_values[\"avg\"], bins=50)\n",
    "plt.hist(depth_values[\"max\"], bins=50)"
   ]
  },
  {
   "cell_type": "code",
   "execution_count": null,
   "metadata": {},
   "outputs": [],
   "source": []
  }
 ],
 "metadata": {
  "kernelspec": {
   "display_name": "Python 3",
   "language": "python",
   "name": "python3"
  },
  "language_info": {
   "codemirror_mode": {
    "name": "ipython",
    "version": 3
   },
   "file_extension": ".py",
   "mimetype": "text/x-python",
   "name": "python",
   "nbconvert_exporter": "python",
   "pygments_lexer": "ipython3",
   "version": "3.6.8"
  }
 },
 "nbformat": 4,
 "nbformat_minor": 2
}
