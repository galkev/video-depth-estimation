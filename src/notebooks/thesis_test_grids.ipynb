{
 "cells": [
  {
   "cell_type": "code",
   "execution_count": 2,
   "metadata": {},
   "outputs": [],
   "source": [
    "# autoreload\n",
    "%load_ext autoreload\n",
    "%autoreload 2\n",
    "%matplotlib inline\n",
    "\n",
    "import os\n",
    "import sys\n",
    "\n",
    "import pathmagic\n",
    "from tools.project import proj_dir\n",
    "\n",
    "from tools.tools import flat_zip"
   ]
  },
  {
   "cell_type": "code",
   "execution_count": 3,
   "metadata": {},
   "outputs": [],
   "source": [
    "from tools.image_grid_builder import ImageGridBuilder\n",
    "\n",
    "builder = ImageGridBuilder()"
   ]
  },
  {
   "cell_type": "code",
   "execution_count": 10,
   "metadata": {},
   "outputs": [
    {
     "name": "stdout",
     "output_type": "stream",
     "text": [
      "['/home/kevin/Documents/master-thesis/logs/final/tests/01_suwa_ddff_all_crops_20190729-004319/img']\n"
     ]
    }
   ],
   "source": [
    "builder.save_test_latex(\n",
    "    save_name=\"01_suwa_ddff_all_crops\",\n",
    "    tests=[\n",
    "        (\"01_suwa_ddff_all_crops\", range(6))\n",
    "    ],\n",
    "    seqs=[0, 4, 5, 12], \n",
    "    row_names=[\n",
    "        \"Input\", \n",
    "        \"DDFF\",\n",
    "        \"LSTM FC\\\\\\\\Cat-Last\",\n",
    "        \"LSTM FC\\\\\\\\Cat-Conv\",\n",
    "        \"LSTM Stack\\\\\\\\Cat-Last\",\n",
    "        \"LSTM Stack\\\\\\\\Cat-Conv\"\n",
    "    ],\n",
    "    fixed_aspect_from_seq=-1,\n",
    ")"
   ]
  },
  {
   "cell_type": "code",
   "execution_count": 4,
   "metadata": {},
   "outputs": [
    {
     "name": "stdout",
     "output_type": "stream",
     "text": [
      "['/home/kevin/Documents/master-thesis/logs/final/tests/01_suwa_ddff_all_crops_20190729-004319/img']\n",
      "['/home/kevin/Documents/master-thesis/logs/final/tests/02_suwa_ddff_all_downscale_20190729-004822/img']\n"
     ]
    }
   ],
   "source": [
    "# combine crops and downscale of stack cat-conv\n",
    "builder.save_test_latex(\n",
    "    save_name=\"02_crops_nn_cmp\",\n",
    "    tests=[\n",
    "        (\"01_suwa_ddff_all_crops\", [0, 5]),\n",
    "        (\"02_suwa_ddff_all_downscale\", [5]),\n",
    "    ],\n",
    "    seqs=[0, 4, 5, 12], \n",
    "    row_names=[\n",
    "        \"Input\",\n",
    "        \"Crops\",\n",
    "        \"NN Interpolate\"\n",
    "    ],\n",
    "    fixed_aspect_from_seq=-1\n",
    ")"
   ]
  },
  {
   "cell_type": "code",
   "execution_count": 19,
   "metadata": {},
   "outputs": [
    {
     "name": "stdout",
     "output_type": "stream",
     "text": [
      "['/home/kevin/Documents/master-thesis/logs/final/tests/03_suwa_ddff_coc_big_crops_20190730-004856/img']\n"
     ]
    }
   ],
   "source": [
    "builder.save_test_latex(\n",
    "    save_name=\"03_suwa_ddff_coc_big_crops\",\n",
    "    tests=[\n",
    "        (\"03_suwa_ddff_coc_big_crops\", range(5))\n",
    "    ],\n",
    "    seqs=[0, 4, 5, 12], \n",
    "    row_names=[\n",
    "        \"Input\",\n",
    "        \"Standard\",\n",
    "        \"CoC-Dec\",\n",
    "        \"Larger Data\",\n",
    "        \"Larger Data \\\\&\\\\\\\\CoC-Dec\"\n",
    "    ],\n",
    "    fixed_aspect_from_seq=-1,\n",
    ")"
   ]
  },
  {
   "cell_type": "code",
   "execution_count": 22,
   "metadata": {},
   "outputs": [
    {
     "name": "stdout",
     "output_type": "stream",
     "text": [
      "['/home/kevin/Documents/master-thesis/logs/final/tests/04_suwa_recurae_coc_big_20190729-222521/img']\n"
     ]
    }
   ],
   "source": [
    "builder.save_test_latex(\n",
    "    save_name=\"04_suwa_recurae_coc_big\",\n",
    "    tests=[\n",
    "        (\"04_suwa_recurae_coc_big\", range(5))\n",
    "    ],\n",
    "    seqs=[0, 4, 5, 12], \n",
    "    row_names=[\n",
    "        \"Input\",\n",
    "        \"Standard\",\n",
    "        \"CoC-Dec\",\n",
    "        \"Larger Data\",\n",
    "        \"Larger Data \\\\&\\\\\\\\CoC-Dec\"\n",
    "    ],\n",
    "    fixed_aspect_from_seq=-1,\n",
    ")"
   ]
  },
  {
   "cell_type": "code",
   "execution_count": 29,
   "metadata": {},
   "outputs": [
    {
     "name": "stdout",
     "output_type": "stream",
     "text": [
      "['/home/kevin/Documents/master-thesis/logs/final/tests/04_suwa_recurae_coc_big_20190729-222521/img']\n"
     ]
    }
   ],
   "source": [
    "builder.save_test_latex(\n",
    "    save_name=\"04_suwa_recurae_coc_big_cocout\",\n",
    "    tests=[\n",
    "        (\"04_suwa_recurae_coc_big\", [0, 2, 4])\n",
    "    ],\n",
    "    seqs=[0, 4, 5, 12], \n",
    "    row_names=[\n",
    "        \"Input\",\n",
    "        \"CoC-Dec\",\n",
    "        \"Larger Data \\\\&\\\\\\\\CoC-Dec\"\n",
    "    ],\n",
    "    fixed_aspect_from_seq=-1,\n",
    "    output_type=\"coc\"\n",
    ")"
   ]
  },
  {
   "cell_type": "code",
   "execution_count": null,
   "metadata": {},
   "outputs": [],
   "source": []
  },
  {
   "cell_type": "code",
   "execution_count": 26,
   "metadata": {},
   "outputs": [
    {
     "name": "stdout",
     "output_type": "stream",
     "text": [
      "['/home/kevin/Documents/master-thesis/logs/final/tests/06_suwa_recurae_numframe_20190729-222242/img']\n"
     ]
    }
   ],
   "source": [
    "builder.save_test_latex(\n",
    "    save_name=\"06_suwa_recurae_numframe\",\n",
    "    tests=[\n",
    "        (\"06_suwa_recurae_numframe\", range(6))\n",
    "    ],\n",
    "    seqs=[0, 4, 5, 12], \n",
    "    row_names=[\n",
    "        \"Input\",\n",
    "        \"1 Frame\",\n",
    "        \"2 Frames\",\n",
    "        \"3 Frames\",\n",
    "        \"4 Frames\",\n",
    "        \"5 Frames\"\n",
    "    ],\n",
    "    fixed_aspect_from_seq=-1,\n",
    ")"
   ]
  },
  {
   "cell_type": "code",
   "execution_count": 10,
   "metadata": {},
   "outputs": [
    {
     "name": "stdout",
     "output_type": "stream",
     "text": [
      "['/home/kevin/Documents/master-thesis/logs/final/tests/07_home_recurae_coc_big_consistency/0_20190729-235549/img']\n",
      "['/home/kevin/Documents/master-thesis/logs/final/tests/07_home_recurae_coc_big_consistency/1_20190729-235558/img']\n",
      "['/home/kevin/Documents/master-thesis/logs/final/tests/07_home_recurae_coc_big_consistency/2_20190729-235606/img']\n",
      "['/home/kevin/Documents/master-thesis/logs/final/tests/07_home_recurae_coc_big_consistency/3_20190729-235616/img']\n",
      "['/home/kevin/Documents/master-thesis/logs/final/tests/07_home_recurae_coc_big_consistency/4_20190729-235624/img']\n"
     ]
    }
   ],
   "source": [
    "# consistency\n",
    "builder.save_test_latex(\n",
    "    save_name=\"07_home_recurae_coc_big_consistency\",\n",
    "    tests=[\n",
    "        (os.path.join(\"07_home_recurae_coc_big_consistency\", str(f)), range(5)) for f in range(5)\n",
    "    ],\n",
    "    seqs=[0], \n",
    "    row_names=[\n",
    "        \"Input\",\n",
    "        \"Standard\",\n",
    "        \"CoC-Dec\",\n",
    "        \"Larger Data\",\n",
    "        \"Larger Data \\\\&\\\\\\\\CoC-Dec\"\n",
    "    ],\n",
    "    nrow=5,\n",
    "    transpose=True\n",
    ")"
   ]
  },
  {
   "cell_type": "code",
   "execution_count": 13,
   "metadata": {},
   "outputs": [
    {
     "name": "stdout",
     "output_type": "stream",
     "text": [
      "['/home/kevin/Documents/master-thesis/logs/final/tests/04_suwa_recurae_coc_big_20190729-222521/img']\n"
     ]
    }
   ],
   "source": [
    "# suwa portrait\n",
    "builder.save_test_latex(\n",
    "    save_name=\"08_suwaportrait_recurae_coc_big\",\n",
    "    tests=[\n",
    "        (\"04_suwa_recurae_coc_big\", range(4))\n",
    "    ],\n",
    "    seqs=[1, 3, 7, 8, 10, 11], \n",
    "    row_names=[\n",
    "        \"Input\",\n",
    "        \"Standard\",\n",
    "        \"CoC-Dec\",\n",
    "        \"Larger Data\",\n",
    "        # \"Larger Data \\\\&\\\\\\\\CoC-Dec\"\n",
    "    ]\n",
    ")"
   ]
  },
  {
   "cell_type": "code",
   "execution_count": 14,
   "metadata": {},
   "outputs": [
    {
     "name": "stdout",
     "output_type": "stream",
     "text": [
      "['/home/kevin/Documents/master-thesis/logs/final/tests/05_home_recurae_coc_big_20190729-200525/img']\n"
     ]
    }
   ],
   "source": [
    "# home room medium tests\n",
    "builder.save_test_latex(\n",
    "    save_name=\"09_home_recurae_coc_big\",\n",
    "    tests=[\n",
    "        (\"05_home_recurae_coc_big\", range(5))\n",
    "    ],\n",
    "    seqs=[1, 2, 6, 7], \n",
    "    row_names=[\n",
    "        \"Input\",\n",
    "        \"Standard\",\n",
    "        \"CoC-Dec\",\n",
    "        \"Larger Data\",\n",
    "        \"Larger Data \\\\&\\\\\\\\CoC-Dec\"\n",
    "    ],\n",
    ")"
   ]
  },
  {
   "cell_type": "code",
   "execution_count": 17,
   "metadata": {},
   "outputs": [
    {
     "name": "stdout",
     "output_type": "stream",
     "text": [
      "['/home/kevin/Documents/master-thesis/logs/final/tests/05_home_recurae_coc_big_20190729-200525/img']\n"
     ]
    }
   ],
   "source": [
    "# home room medium tests\n",
    "builder.save_test_latex(\n",
    "    save_name=\"09_home_recurae_coc_big_cocout\",\n",
    "    tests=[\n",
    "        (\"05_home_recurae_coc_big\", [0, 2, 4])\n",
    "    ],\n",
    "    seqs=[1, 2, 6, 7], \n",
    "    row_names=[\n",
    "        \"Input\",\n",
    "        # \"Standard\",\n",
    "        \"CoC-Dec\",\n",
    "        # \"Larger Data\",\n",
    "        \"Larger Data \\\\&\\\\\\\\CoC-Dec\"\n",
    "    ],\n",
    "    output_type=\"coc\"\n",
    ")"
   ]
  },
  {
   "cell_type": "code",
   "execution_count": 4,
   "metadata": {},
   "outputs": [
    {
     "name": "stdout",
     "output_type": "stream",
     "text": [
      "['/home/kevin/Documents/master-thesis/logs/final/tests/08_muc_recurae_coc_big_20190730-165718/img']\n"
     ]
    }
   ],
   "source": [
    "# muc room hard tests\n",
    "builder.save_test_latex(\n",
    "    save_name=\"10_muc_recurae_coc_big\",\n",
    "    tests=[\n",
    "        (\"08_muc_recurae_coc_big\", range(5))\n",
    "    ],\n",
    "    seqs=[2, 7, 11, 16], \n",
    "    row_names=[\n",
    "        \"Input\",\n",
    "        \"Standard\",\n",
    "        \"CoC-Dec\",\n",
    "        \"Larger Data\",\n",
    "        \"Larger Data \\\\&\\\\\\\\CoC-Dec\"\n",
    "    ],\n",
    ")"
   ]
  },
  {
   "cell_type": "code",
   "execution_count": 5,
   "metadata": {},
   "outputs": [
    {
     "name": "stdout",
     "output_type": "stream",
     "text": [
      "['/home/kevin/Documents/master-thesis/logs/final/tests/08_muc_recurae_coc_big_20190730-165718/img']\n"
     ]
    }
   ],
   "source": [
    "# muc room hard tests\n",
    "builder.save_test_latex(\n",
    "    save_name=\"10_muc_recurae_coc_big_cocout\",\n",
    "    tests=[\n",
    "        (\"08_muc_recurae_coc_big\", [0, 2, 4])\n",
    "    ],\n",
    "    seqs=[2, 7, 11, 16], \n",
    "    row_names=[\n",
    "        \"Input\",\n",
    "        # \"Standard\",\n",
    "        \"CoC-Dec\",\n",
    "        # \"Larger Data\",\n",
    "        \"Larger Data \\\\&\\\\\\\\CoC-Dec\"\n",
    "    ],\n",
    "    output_type=\"coc\"\n",
    ")"
   ]
  },
  {
   "cell_type": "code",
   "execution_count": null,
   "metadata": {},
   "outputs": [],
   "source": [
    "# other dataset tests for (std and larger data only maybe) recurae, wooden floor data as limits of this approach\n",
    "# suwa portait data\n",
    "\n",
    "# (maybe only do consistency test for std and larger data to save some space)"
   ]
  }
 ],
 "metadata": {
  "kernelspec": {
   "display_name": "Python 3",
   "language": "python",
   "name": "python3"
  },
  "language_info": {
   "codemirror_mode": {
    "name": "ipython",
    "version": 3
   },
   "file_extension": ".py",
   "mimetype": "text/x-python",
   "name": "python",
   "nbconvert_exporter": "python",
   "pygments_lexer": "ipython3",
   "version": "3.6.8"
  }
 },
 "nbformat": 4,
 "nbformat_minor": 2
}
