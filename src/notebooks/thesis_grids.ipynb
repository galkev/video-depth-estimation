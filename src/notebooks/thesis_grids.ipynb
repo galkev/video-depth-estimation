{
 "cells": [
  {
   "cell_type": "code",
   "execution_count": 1,
   "metadata": {},
   "outputs": [],
   "source": [
    "# autoreload\n",
    "%load_ext autoreload\n",
    "%autoreload 2\n",
    "%matplotlib inline\n",
    "\n",
    "import os\n",
    "import sys\n",
    "\n",
    "import pathmagic\n",
    "from tools.project import proj_dir\n",
    "\n",
    "from tools.tools import flat_zip"
   ]
  },
  {
   "cell_type": "code",
   "execution_count": 2,
   "metadata": {},
   "outputs": [],
   "source": [
    "from tools.image_grid_builder import ImageGridBuilder\n",
    "\n",
    "grid_builder = ImageGridBuilder()"
   ]
  },
  {
   "cell_type": "code",
   "execution_count": 6,
   "metadata": {},
   "outputs": [],
   "source": [
    "grid_builder.save(\"checker_grid_and\", \n",
    "                 ImageGridBuilder.get_images(ImageGridBuilder.get_filenames(\n",
    "                     \"/home/kevin/Documents/master-thesis/datasets/andasus_dataset/calib/hd/*.tif\"\n",
    "                 )),\n",
    "                  nrow=6\n",
    "                 )"
   ]
  },
  {
   "cell_type": "code",
   "execution_count": 4,
   "metadata": {},
   "outputs": [],
   "source": [
    "grid_builder.save(\"andasus_grid_and\", \n",
    "                 ImageGridBuilder.get_images_from_video(ImageGridBuilder.get_filenames(\n",
    "                     \"/home/kevin/Documents/master-thesis/datasets/andasus_dataset/raw/clips/clip*/hd/*.mp4\"\n",
    "                 ), downscale=4),\n",
    "                  nrow=3\n",
    "                 )"
   ]
  },
  {
   "cell_type": "code",
   "execution_count": 8,
   "metadata": {},
   "outputs": [],
   "source": [
    "grid_builder.save(\"andasus_grid_depth\", \n",
    "                 grid_builder.get_depth_images(ImageGridBuilder.get_filenames(\n",
    "                     \"/home/kevin/Documents/master-thesis/datasets/andasus_dataset/raw/clips/clip*/depth/depth1.tif\"\n",
    "                 )),\n",
    "                  nrow=3\n",
    "                 )"
   ]
  },
  {
   "cell_type": "code",
   "execution_count": 16,
   "metadata": {},
   "outputs": [],
   "source": [
    "root_dir = \"/home/kevin/Documents/master-thesis/datasets/s7_5ramp/train/seq30/\"\n",
    "\n",
    "color_imgs = grid_builder.get_images([os.path.join(root_dir, f\"color000{i}.tif\") for i in range(5)])\n",
    "depth_imgs = grid_builder.get_depth_images([os.path.join(root_dir, f\"depth000{i}.exr\") for i in range(5)])\n",
    "\n",
    "grid_builder.save(\"blender_dataset_vis\", \n",
    "                 color_imgs + depth_imgs,\n",
    "                  nrow=5\n",
    "                 )"
   ]
  },
  {
   "cell_type": "code",
   "execution_count": 18,
   "metadata": {},
   "outputs": [],
   "source": [
    "root_dir = \"/home/kevin/Documents/master-thesis/datasets/s7_bigger/train/seq1207/\"\n",
    "\n",
    "color_imgs = grid_builder.get_images([os.path.join(root_dir, f\"color000{i}.tif\") for i in range(5)])\n",
    "depth_imgs = grid_builder.get_depth_images([os.path.join(root_dir, f\"depth000{i}.exr\") for i in range(5)])\n",
    "\n",
    "grid_builder.save(\"blender_dataset_bigger_vis\", \n",
    "                 color_imgs + depth_imgs,\n",
    "                  nrow=5\n",
    "                 )"
   ]
  },
  {
   "cell_type": "code",
   "execution_count": 12,
   "metadata": {},
   "outputs": [],
   "source": [
    "grid_builder.save(\"dataset_muc\", \n",
    "                 ImageGridBuilder.get_images_from_video(ImageGridBuilder.get_filenames(\n",
    "                     \"/home/kevin/Documents/master-thesis/datasets/s7_real_mp4/test/seq*/color.mp4\"\n",
    "                 ), idx=1),\n",
    "                  nrow=4\n",
    "                 )"
   ]
  },
  {
   "cell_type": "code",
   "execution_count": 15,
   "metadata": {},
   "outputs": [],
   "source": [
    "indices = [5, 6, 7, 8, 9, 10, 11, 12, 14]\n",
    "\n",
    "files = [f\"/home/kevin/Documents/master-thesis/datasets/s7_4ramp_real/test/seq{i}/color0000.jpg\" for i in indices]\n",
    "\n",
    "grid_builder.save(\"dataset_home\", \n",
    "                 ImageGridBuilder.get_images(files),\n",
    "                  nrow=3\n",
    "                 )"
   ]
  },
  {
   "cell_type": "code",
   "execution_count": 4,
   "metadata": {},
   "outputs": [],
   "source": [
    "indices = range(4)\n",
    "\n",
    "files = [f\"/home/kevin/Documents/master-thesis/datasets/s7_4ramp_real/test/seq5/color000{i}.jpg\" for i in indices]\n",
    "\n",
    "grid_builder.save(\"dataset_home_seq\", \n",
    "                 ImageGridBuilder.get_images(files),\n",
    "                  nrow=4\n",
    "                 )"
   ]
  },
  {
   "cell_type": "code",
   "execution_count": null,
   "metadata": {},
   "outputs": [],
   "source": []
  }
 ],
 "metadata": {
  "kernelspec": {
   "display_name": "Python 3",
   "language": "python",
   "name": "python3"
  },
  "language_info": {
   "codemirror_mode": {
    "name": "ipython",
    "version": 3
   },
   "file_extension": ".py",
   "mimetype": "text/x-python",
   "name": "python",
   "nbconvert_exporter": "python",
   "pygments_lexer": "ipython3",
   "version": "3.6.8"
  }
 },
 "nbformat": 4,
 "nbformat_minor": 2
}
