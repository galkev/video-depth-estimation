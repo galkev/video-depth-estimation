{
 "cells": [
  {
   "cell_type": "code",
   "execution_count": 7,
   "metadata": {},
   "outputs": [
    {
     "name": "stdout",
     "output_type": "stream",
     "text": [
      "The autoreload extension is already loaded. To reload it, use:\n",
      "  %reload_ext autoreload\n"
     ]
    }
   ],
   "source": [
    "# autoreload\n",
    "%load_ext autoreload\n",
    "%autoreload 2\n",
    "%matplotlib inline\n",
    "\n",
    "import os\n",
    "import sys\n",
    "\n",
    "import pathmagic\n",
    "from tools.project import proj_dir"
   ]
  },
  {
   "cell_type": "code",
   "execution_count": 8,
   "metadata": {},
   "outputs": [
    {
     "name": "stdout",
     "output_type": "stream",
     "text": [
      "torch.Size([2, 64, 56, 56]) torch.Size([2, 32, 56, 56])\n",
      "cat\n",
      "torch.Size([2, 30, 112, 112]) torch.Size([2, 16, 112, 112])\n",
      "cat\n",
      "torch.Size([2, 64, 56, 56]) torch.Size([2, 32, 56, 56])\n",
      "cat\n",
      "torch.Size([2, 30, 112, 112]) torch.Size([2, 16, 112, 112])\n",
      "cat\n",
      "torch.Size([2, 64, 56, 56]) torch.Size([2, 32, 56, 56])\n",
      "cat\n",
      "torch.Size([2, 30, 112, 112]) torch.Size([2, 16, 112, 112])\n",
      "cat\n"
     ]
    }
   ],
   "source": [
    "import torch\n",
    "from torch import nn\n",
    "from net.net_stack import ConcatNetStackSandwitch\n",
    "from net.pool_net import PoolNet\n",
    "from net.ddff_net import DDFFNetDummy\n",
    "from net.auto_encoder_blocks import UNet, UNetEncoder, UNetDecoder\n",
    "from net.coc_depth_net import CoCDepthEncShareNet\n",
    "\n",
    "device = \"cuda\"\n",
    "\n",
    "batch_size = 2\n",
    "num_frames = 3\n",
    "\n",
    "x = torch.rand(batch_size, num_frames, 3, 112, 112, device=device)\n",
    "\n",
    "#unet = UNet(]).to(device)\n",
    "\n",
    "net_gen_enc = lambda: UNetEncoder([16, 32, 64])\n",
    "net_gen_dec = lambda: UNetDecoder([64, 30, 16], [16, 32, 64])\n",
    "\n",
    "ddff_model = DDFFNetDummy(num_frames, input_dim=64, output_dim=64, use_scoring=False)\n",
    "model = ConcatNetStackSandwitch(net_gen_enc, net_gen_dec, ddff_model, num_frames).to(device)\n",
    "\n",
    "#out = model(x)\n",
    "out = model(x)\n",
    "\n",
    "#print(unet)\n",
    "#unet_out = unet(x[:,0])"
   ]
  },
  {
   "cell_type": "code",
   "execution_count": 9,
   "metadata": {},
   "outputs": [
    {
     "name": "stdout",
     "output_type": "stream",
     "text": [
      "torch.Size([2, 3, 1, 112, 112])\n"
     ]
    }
   ],
   "source": [
    "print(out.shape)"
   ]
  },
  {
   "cell_type": "code",
   "execution_count": 10,
   "metadata": {},
   "outputs": [
    {
     "name": "stdout",
     "output_type": "stream",
     "text": [
      "torch.Size([2, 48, 112, 112]) torch.Size([2, 32, 112, 112])\n",
      "cat\n",
      "torch.Size([2, 48, 112, 112]) torch.Size([2, 32, 112, 112])\n",
      "cat\n",
      "torch.Size([2, 48, 112, 112]) torch.Size([2, 32, 112, 112])\n",
      "cat\n"
     ]
    }
   ],
   "source": [
    "import numpy as np\n",
    "\n",
    "def unet_pair_gen(enc_sizes, dec_sizes):\n",
    "    return lambda: UNetEncoder(enc_sizes, ), \\\n",
    "           lambda: UNetDecoder(dec_sizes, enc_sizes)\n",
    "\n",
    "\n",
    "net2 = ConcatNetStackSandwitch(\n",
    "    *unet_pair_gen([32, 48], [48, 48]),\n",
    "    PoolNet(\n",
    "        in_channels=48,\n",
    "        out_channels=48,\n",
    "        enc_sizes=[64, 128, 192], #[48, 64, 128, 192],\n",
    "        dec_sizes=[192, 128, 96], #[192, 128, 96, 48],\n",
    "        bn_eps=1e-4,\n",
    "        dec_pool_layers=False\n",
    "    ),\n",
    "    num_frames=3\n",
    ").to(device)\n",
    "\n",
    "\n",
    "\"\"\"\n",
    "net2 = ConcatNetStackSandwitch(\n",
    "    *unet_pair_gen([32], [48]),\n",
    "    CoCDepthEncShareNet(\n",
    "        in_channels=32,\n",
    "        out_channels=48,\n",
    "        enc_sizes=[48, 64, 128], #[48, 64, 128, 192],\n",
    "        dec_sizes=[128, 96, 48], #[192, 128, 96, 48],\n",
    "        bn_eps=1e-4,\n",
    "        dec_pool_layers=False\n",
    "    ),\n",
    "    num_frames=num_frames,\n",
    "    num_decoder=2\n",
    ").to(device)\n",
    "\"\"\"\n",
    "\n",
    "\n",
    "out = net2(x)"
   ]
  },
  {
   "cell_type": "code",
   "execution_count": 11,
   "metadata": {},
   "outputs": [
    {
     "name": "stdout",
     "output_type": "stream",
     "text": [
      "2\n",
      "torch.Size([3, 1, 112, 112])\n",
      "torch.Size([3, 1, 112, 112])\n"
     ]
    }
   ],
   "source": [
    "print(len(out))\n",
    "print(out[0].shape)\n",
    "print(out[1].shape)"
   ]
  },
  {
   "cell_type": "code",
   "execution_count": 12,
   "metadata": {},
   "outputs": [
    {
     "name": "stdout",
     "output_type": "stream",
     "text": [
      "Conv2d(3, 32, kernel_size=(3, 3), stride=(1, 1), padding=(1, 1))\n",
      "BatchNorm2d(32, eps=1e-05, momentum=0.1, affine=True, track_running_stats=True)\n",
      "ReLU(inplace)\n",
      "Conv2d(32, 32, kernel_size=(3, 3), stride=(1, 1), padding=(1, 1))\n",
      "BatchNorm2d(32, eps=1e-05, momentum=0.1, affine=True, track_running_stats=True)\n",
      "ReLU(inplace)\n",
      "MaxPool2d(kernel_size=2, stride=2, padding=0, dilation=1, ceil_mode=False)\n",
      "Conv2d(32, 48, kernel_size=(3, 3), stride=(1, 1), padding=(1, 1))\n",
      "BatchNorm2d(48, eps=1e-05, momentum=0.1, affine=True, track_running_stats=True)\n",
      "ReLU(inplace)\n",
      "Conv2d(48, 48, kernel_size=(3, 3), stride=(1, 1), padding=(1, 1))\n",
      "BatchNorm2d(48, eps=1e-05, momentum=0.1, affine=True, track_running_stats=True)\n",
      "ReLU(inplace)\n",
      "Conv2d(3, 32, kernel_size=(3, 3), stride=(1, 1), padding=(1, 1))\n",
      "BatchNorm2d(32, eps=1e-05, momentum=0.1, affine=True, track_running_stats=True)\n",
      "ReLU(inplace)\n",
      "Conv2d(32, 32, kernel_size=(3, 3), stride=(1, 1), padding=(1, 1))\n",
      "BatchNorm2d(32, eps=1e-05, momentum=0.1, affine=True, track_running_stats=True)\n",
      "ReLU(inplace)\n",
      "MaxPool2d(kernel_size=2, stride=2, padding=0, dilation=1, ceil_mode=False)\n",
      "Conv2d(32, 48, kernel_size=(3, 3), stride=(1, 1), padding=(1, 1))\n",
      "BatchNorm2d(48, eps=1e-05, momentum=0.1, affine=True, track_running_stats=True)\n",
      "ReLU(inplace)\n",
      "Conv2d(48, 48, kernel_size=(3, 3), stride=(1, 1), padding=(1, 1))\n",
      "BatchNorm2d(48, eps=1e-05, momentum=0.1, affine=True, track_running_stats=True)\n",
      "ReLU(inplace)\n",
      "Conv2d(3, 32, kernel_size=(3, 3), stride=(1, 1), padding=(1, 1))\n",
      "BatchNorm2d(32, eps=1e-05, momentum=0.1, affine=True, track_running_stats=True)\n",
      "ReLU(inplace)\n",
      "Conv2d(32, 32, kernel_size=(3, 3), stride=(1, 1), padding=(1, 1))\n",
      "BatchNorm2d(32, eps=1e-05, momentum=0.1, affine=True, track_running_stats=True)\n",
      "ReLU(inplace)\n",
      "MaxPool2d(kernel_size=2, stride=2, padding=0, dilation=1, ceil_mode=False)\n",
      "Conv2d(32, 48, kernel_size=(3, 3), stride=(1, 1), padding=(1, 1))\n",
      "BatchNorm2d(48, eps=1e-05, momentum=0.1, affine=True, track_running_stats=True)\n",
      "ReLU(inplace)\n",
      "Conv2d(48, 48, kernel_size=(3, 3), stride=(1, 1), padding=(1, 1))\n",
      "BatchNorm2d(48, eps=1e-05, momentum=0.1, affine=True, track_running_stats=True)\n",
      "ReLU(inplace)\n",
      "Conv2d(48, 64, kernel_size=(3, 3), stride=(1, 1), padding=(1, 1), bias=False)\n",
      "BatchNorm2d(64, eps=0.0001, momentum=0.1, affine=True, track_running_stats=True)\n",
      "ReLU()\n",
      "GlobalMaxPool()\n",
      "Conv2d(128, 128, kernel_size=(1, 1), stride=(1, 1), bias=False)\n",
      "BatchNorm2d(128, eps=0.0001, momentum=0.1, affine=True, track_running_stats=True)\n",
      "ReLU()\n",
      "Conv2d(128, 128, kernel_size=(4, 4), stride=(2, 2), padding=(1, 1), bias=False)\n",
      "BatchNorm2d(128, eps=0.0001, momentum=0.1, affine=True, track_running_stats=True)\n",
      "ReLU()\n",
      "GlobalMaxPool()\n",
      "Conv2d(256, 192, kernel_size=(1, 1), stride=(1, 1), bias=False)\n",
      "BatchNorm2d(192, eps=0.0001, momentum=0.1, affine=True, track_running_stats=True)\n",
      "ReLU()\n",
      "Conv2d(192, 192, kernel_size=(4, 4), stride=(2, 2), padding=(1, 1), bias=False)\n",
      "BatchNorm2d(192, eps=0.0001, momentum=0.1, affine=True, track_running_stats=True)\n",
      "ReLU()\n",
      "Conv2d(192, 192, kernel_size=(3, 3), stride=(1, 1), padding=(1, 1), bias=False)\n",
      "BatchNorm2d(192, eps=0.0001, momentum=0.1, affine=True, track_running_stats=True)\n",
      "ReLU()\n",
      "ConvTranspose2d(192, 192, kernel_size=(4, 4), stride=(2, 2), padding=(1, 1), bias=False)\n",
      "BatchNorm2d(192, eps=0.0001, momentum=0.1, affine=True, track_running_stats=True)\n",
      "ReLU()\n",
      "Conv2d(320, 192, kernel_size=(1, 1), stride=(1, 1), bias=False)\n",
      "BatchNorm2d(192, eps=0.0001, momentum=0.1, affine=True, track_running_stats=True)\n",
      "ReLU()\n",
      "Conv2d(192, 192, kernel_size=(3, 3), stride=(1, 1), padding=(1, 1), bias=False)\n",
      "BatchNorm2d(192, eps=0.0001, momentum=0.1, affine=True, track_running_stats=True)\n",
      "ReLU()\n",
      "ConvTranspose2d(192, 128, kernel_size=(4, 4), stride=(2, 2), padding=(1, 1), bias=False)\n",
      "BatchNorm2d(128, eps=0.0001, momentum=0.1, affine=True, track_running_stats=True)\n",
      "ReLU()\n",
      "Conv2d(192, 128, kernel_size=(1, 1), stride=(1, 1), bias=False)\n",
      "BatchNorm2d(128, eps=0.0001, momentum=0.1, affine=True, track_running_stats=True)\n",
      "ReLU()\n",
      "Conv2d(128, 96, kernel_size=(3, 3), stride=(1, 1), padding=(1, 1), bias=False)\n",
      "BatchNorm2d(96, eps=0.0001, momentum=0.1, affine=True, track_running_stats=True)\n",
      "ReLU()\n",
      "Conv2d(96, 64, kernel_size=(3, 3), stride=(1, 1), padding=(1, 1), bias=False)\n",
      "BatchNorm2d(64, eps=0.0001, momentum=0.1, affine=True, track_running_stats=True)\n",
      "ReLU()\n",
      "Conv2d(64, 48, kernel_size=(3, 3), stride=(1, 1), padding=(1, 1), bias=False)\n",
      "BatchNorm2d(48, eps=0.0001, momentum=0.1, affine=True, track_running_stats=True)\n",
      "ConvTranspose2d(48, 48, kernel_size=(2, 2), stride=(2, 2))\n",
      "Conv2d(80, 48, kernel_size=(3, 3), stride=(1, 1), padding=(1, 1))\n",
      "BatchNorm2d(48, eps=1e-05, momentum=0.1, affine=True, track_running_stats=True)\n",
      "ReLU(inplace)\n",
      "Conv2d(48, 48, kernel_size=(3, 3), stride=(1, 1), padding=(1, 1))\n",
      "BatchNorm2d(48, eps=1e-05, momentum=0.1, affine=True, track_running_stats=True)\n",
      "ReLU(inplace)\n",
      "Conv2d(48, 1, kernel_size=(1, 1), stride=(1, 1))\n",
      "ConvTranspose2d(48, 48, kernel_size=(2, 2), stride=(2, 2))\n",
      "Conv2d(80, 48, kernel_size=(3, 3), stride=(1, 1), padding=(1, 1))\n",
      "BatchNorm2d(48, eps=1e-05, momentum=0.1, affine=True, track_running_stats=True)\n",
      "ReLU(inplace)\n",
      "Conv2d(48, 48, kernel_size=(3, 3), stride=(1, 1), padding=(1, 1))\n",
      "BatchNorm2d(48, eps=1e-05, momentum=0.1, affine=True, track_running_stats=True)\n",
      "ReLU(inplace)\n",
      "Conv2d(48, 1, kernel_size=(1, 1), stride=(1, 1))\n",
      "ConvTranspose2d(48, 48, kernel_size=(2, 2), stride=(2, 2))\n",
      "Conv2d(80, 48, kernel_size=(3, 3), stride=(1, 1), padding=(1, 1))\n",
      "BatchNorm2d(48, eps=1e-05, momentum=0.1, affine=True, track_running_stats=True)\n",
      "ReLU(inplace)\n",
      "Conv2d(48, 48, kernel_size=(3, 3), stride=(1, 1), padding=(1, 1))\n",
      "BatchNorm2d(48, eps=1e-05, momentum=0.1, affine=True, track_running_stats=True)\n",
      "ReLU(inplace)\n",
      "Conv2d(48, 1, kernel_size=(1, 1), stride=(1, 1))\n"
     ]
    }
   ],
   "source": [
    "from tools.tools import module_flat_str\n",
    "\n",
    "print(module_flat_str(net2))"
   ]
  },
  {
   "cell_type": "code",
   "execution_count": null,
   "metadata": {},
   "outputs": [],
   "source": []
  }
 ],
 "metadata": {
  "kernelspec": {
   "display_name": "Python 3",
   "language": "python",
   "name": "python3"
  },
  "language_info": {
   "codemirror_mode": {
    "name": "ipython",
    "version": 3
   },
   "file_extension": ".py",
   "mimetype": "text/x-python",
   "name": "python",
   "nbconvert_exporter": "python",
   "pygments_lexer": "ipython3",
   "version": "3.6.8"
  }
 },
 "nbformat": 4,
 "nbformat_minor": 2
}
