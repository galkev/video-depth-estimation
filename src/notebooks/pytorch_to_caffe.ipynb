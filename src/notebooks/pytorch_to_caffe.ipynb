{
 "cells": [
  {
   "cell_type": "code",
   "execution_count": 1,
   "metadata": {},
   "outputs": [],
   "source": [
    "# autoreload\n",
    "%load_ext autoreload\n",
    "%autoreload 2\n",
    "%matplotlib inline\n",
    "\n",
    "import os\n",
    "import sys\n",
    "\n",
    "import pathmagic\n",
    "from tools.project import proj_dir"
   ]
  },
  {
   "cell_type": "code",
   "execution_count": 2,
   "metadata": {},
   "outputs": [
    {
     "name": "stderr",
     "output_type": "stream",
     "text": [
      "/home/kevin/miniconda2/envs/torch/lib/python3.6/site-packages/torch/cuda/__init__.py:118: UserWarning: \n",
      "    Found GPU0 GeForce GTX 660M which is of cuda capability 3.0.\n",
      "    PyTorch no longer supports this GPU because it is too old.\n",
      "    The minimum cuda capability that we support is 3.5.\n",
      "    \n",
      "  warnings.warn(old_gpu_warn % (d, name, major, capability[1]))\n",
      "[2019-06-07 18:21:17,949] [train_logger.py:540] DEBUG: ../../../logs/tblogs/mNone_None\n"
     ]
    },
    {
     "name": "stdout",
     "output_type": "stream",
     "text": [
      "WARNING: model_gen lambda has no input param for num_in_channels\n",
      "Val losses [Masked(MSELoss()), Masked(AccuracyLoss())]\n",
      "Train loss Masked(MSELoss())\n",
      "Dataset type: train\n",
      "\n",
      "Data dirs ['../../../datasets/s7/train/seq0', '../../../datasets/s7/train/seq20', '../../../datasets/s7/train/seq39']\n",
      "Data class <class 'data.video_depth_focus_data.VideoDepthFocusData'>\n",
      "Using stats: ../../../datasets/s7/stats_total.json\n",
      "Data Stats {'focus_min': 0.1, 'focus_max': 0.5, 'frames': {'depth': {'min': 0, 'max': 1.5}}}\n",
      "MIN DEPTH HARDCODED!!!\n",
      "depth_normalize: Normalize(0.03, 1.5, clamp_max=False)\n",
      "coc_normalize: None\n",
      "signed_coc_normalize: None\n",
      "Lens: {'focal_length': 0.004200000000000001, 'depth_scale': 1, 'f_number': 1.7, 'aperture_radius': 0.002470588235294118}\n",
      "Dataset type: val\n",
      "\n",
      "Data dirs ['../../../datasets/s7/train/seq79']\n",
      "Data class <class 'data.video_depth_focus_data.VideoDepthFocusData'>\n",
      "Using stats: ../../../datasets/s7/stats_total.json\n",
      "Data Stats {'focus_min': 0.1, 'focus_max': 0.5, 'frames': {'depth': {'min': 0, 'max': 1.5}}}\n",
      "MIN DEPTH HARDCODED!!!\n",
      "depth_normalize: Normalize(0.03, 1.5, clamp_max=False)\n",
      "coc_normalize: None\n",
      "signed_coc_normalize: None\n",
      "Lens: {'focal_length': 0.004200000000000001, 'depth_scale': 1, 'f_number': 1.7, 'aperture_radius': 0.002470588235294118}\n",
      "Dataset type: test\n",
      "Test mode\n",
      "\n",
      "Data dirs ['../../../datasets/s7/test/seq0']\n",
      "Data class <class 'data.video_depth_focus_data.VideoDepthFocusData'>\n",
      "Using stats: ../../../datasets/s7/stats_total.json\n",
      "Data Stats {'focus_min': 0.1, 'focus_max': 0.5, 'frames': {'depth': {'min': 0, 'max': 1.5}}}\n",
      "MIN DEPTH HARDCODED!!!\n",
      "depth_normalize: Normalize(0.03, 1.5, clamp_max=False)\n",
      "coc_normalize: None\n",
      "signed_coc_normalize: None\n",
      "Lens: {'focal_length': 0.004200000000000001, 'depth_scale': 1, 'f_number': 1.7, 'aperture_radius': 0.002470588235294118}\n",
      "Latest epoch = 660\n",
      "Type: <class 'dict'>\n",
      "18:21:19 Loaded checkpoint\n",
      "18:21:19 [Epoch 660] TRAIN train_loss: 0.0012047\n",
      "18:21:19 [Epoch 660] VAL   train_loss: 0.0022299 mse: 0.0022299 acc: 88.80%\n"
     ]
    },
    {
     "name": "stderr",
     "output_type": "stream",
     "text": [
      "../net/recurrent_ae.py:190: TracerWarning: Converting a tensor to a Python index might cause the trace to be incorrect. We can't record the data flow of Python values, so this value will be treated as a constant in the future. This means that the trace might not generalize to other inputs!\n",
      "  indices = range(stop)\n"
     ]
    },
    {
     "name": "stdout",
     "output_type": "stream",
     "text": [
      "Exported model has been executed on Caffe2 backend, and the result looks good!\n"
     ]
    }
   ],
   "source": [
    "from scripts.pytorch_to_caffe import pytorch_to_caffe\n",
    "\n",
    "model_id = \"97519\"\n",
    "setup = \"recurae_depth\"\n",
    "\n",
    "pytorch_to_caffe(model_id, setup)"
   ]
  },
  {
   "cell_type": "code",
   "execution_count": null,
   "metadata": {},
   "outputs": [],
   "source": []
  }
 ],
 "metadata": {
  "kernelspec": {
   "display_name": "Python 3",
   "language": "python",
   "name": "python3"
  },
  "language_info": {
   "codemirror_mode": {
    "name": "ipython",
    "version": 3
   },
   "file_extension": ".py",
   "mimetype": "text/x-python",
   "name": "python",
   "nbconvert_exporter": "python",
   "pygments_lexer": "ipython3",
   "version": "3.6.8"
  }
 },
 "nbformat": 4,
 "nbformat_minor": 2
}
