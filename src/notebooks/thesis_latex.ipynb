{
 "cells": [
  {
   "cell_type": "code",
   "execution_count": 2,
   "metadata": {},
   "outputs": [],
   "source": [
    "# autoreload\n",
    "%load_ext autoreload\n",
    "%autoreload 2\n",
    "%matplotlib inline\n",
    "#%config InlineBackend.figure_format = 'svg'\n",
    "\n",
    "import os\n",
    "import sys\n",
    "\n",
    "import pathmagic\n",
    "from tools.project import proj_dir"
   ]
  },
  {
   "cell_type": "code",
   "execution_count": null,
   "metadata": {},
   "outputs": [],
   "source": []
  },
  {
   "cell_type": "code",
   "execution_count": 5,
   "metadata": {},
   "outputs": [
    {
     "name": "stdout",
     "output_type": "stream",
     "text": [
      "(0, -0.1)\n",
      "(0, -0.1)\n",
      "(0, -0.1)\n",
      "[1. 1.]\n",
      "[1.  1.1]\n",
      "[1. 1.]\n",
      "[1.  1.1]\n",
      "[1. 1.]\n",
      "[1.  1.1]\n",
      "[1. 1.]\n",
      "[1.  1.1]\n",
      "[1. 1.]\n",
      "[1.  1.1]\n",
      "[1. 1.]\n",
      "[1.  1.1]\n"
     ]
    }
   ],
   "source": [
    "img_path = \"/home/kevin/Documents/master-thesis/thesis/figures/pictures/full\"\n",
    "out_path = \"/home/kevin/Documents/master-thesis/thesis/figures/grids\"\n",
    "\n",
    "from tools.image_grid import LatexPictureFile, LatexGrid, LatexGraphics, LatexGraphicsLabeled\n",
    "\n",
    "imgs = [os.path.join(os.path.join(img_path, \"placeholder.png\"))] * 3\n",
    "\n",
    "graphics = [LatexGraphics(img) for img in imgs]\n",
    "\n",
    "graphics = [LatexGraphicsLabeled(g, text_top=\"Hello\") for g in graphics]\n",
    "\n",
    "LatexPictureFile(LatexGrid(graphics, nrow=3)).save(os.path.join(out_path, \"grid.pdf_tex\"))"
   ]
  },
  {
   "cell_type": "code",
   "execution_count": null,
   "metadata": {},
   "outputs": [],
   "source": []
  }
 ],
 "metadata": {
  "kernelspec": {
   "display_name": "Python 3",
   "language": "python",
   "name": "python3"
  },
  "language_info": {
   "codemirror_mode": {
    "name": "ipython",
    "version": 3
   },
   "file_extension": ".py",
   "mimetype": "text/x-python",
   "name": "python",
   "nbconvert_exporter": "python",
   "pygments_lexer": "ipython3",
   "version": "3.6.8"
  }
 },
 "nbformat": 4,
 "nbformat_minor": 2
}
